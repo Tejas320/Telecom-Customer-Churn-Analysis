{
 "cells": [
  {
   "cell_type": "markdown",
   "id": "ae431a1d",
   "metadata": {},
   "source": [
    "# Connecting SQL Server to Jupyter Notebook"
   ]
  },
  {
   "cell_type": "code",
   "execution_count": 1,
   "id": "523759a8",
   "metadata": {},
   "outputs": [],
   "source": [
    "import sqlalchemy\n",
    "from sqlalchemy import create_engine"
   ]
  },
  {
   "cell_type": "code",
   "execution_count": 2,
   "id": "8b0aef9c",
   "metadata": {},
   "outputs": [],
   "source": [
    "DRIVER_NAME = 'SQL SERVER'\n",
    "SERVER_NAME = 'DESKTOP-O7SSU7P\\SQLEXPRESS'\n",
    "DATABASE_NAME = 'db_Churn'"
   ]
  },
  {
   "cell_type": "code",
   "execution_count": 3,
   "id": "9ff3c06e",
   "metadata": {},
   "outputs": [],
   "source": [
    "connection_string = f'mssql+pyodbc://@{SERVER_NAME}/{DATABASE_NAME}?driver={DRIVER_NAME}'\n",
    "engine = create_engine(connection_string)"
   ]
  },
  {
   "cell_type": "markdown",
   "id": "2487262f",
   "metadata": {},
   "source": [
    "#  Customer Churn Prediction"
   ]
  },
  {
   "cell_type": "code",
   "execution_count": 4,
   "id": "3b21e903",
   "metadata": {},
   "outputs": [],
   "source": [
    "# Importing necessary libraries\n",
    "import numpy as np\n",
    "import pandas as pd\n",
    "import matplotlib.pyplot as plt\n",
    "import seaborn as sns\n",
    "from sklearn.model_selection import train_test_split\n",
    "from sklearn.ensemble import RandomForestClassifier\n",
    "from sklearn.metrics import classification_report, confusion_matrix\n",
    "from sklearn.preprocessing import LabelEncoder"
   ]
  },
  {
   "cell_type": "code",
   "execution_count": 5,
   "id": "ed25e3cd",
   "metadata": {},
   "outputs": [
    {
     "data": {
      "text/html": [
       "<div>\n",
       "<style scoped>\n",
       "    .dataframe tbody tr th:only-of-type {\n",
       "        vertical-align: middle;\n",
       "    }\n",
       "\n",
       "    .dataframe tbody tr th {\n",
       "        vertical-align: top;\n",
       "    }\n",
       "\n",
       "    .dataframe thead th {\n",
       "        text-align: right;\n",
       "    }\n",
       "</style>\n",
       "<table border=\"1\" class=\"dataframe\">\n",
       "  <thead>\n",
       "    <tr style=\"text-align: right;\">\n",
       "      <th></th>\n",
       "      <th>Customer_ID</th>\n",
       "      <th>Gender</th>\n",
       "      <th>Age</th>\n",
       "      <th>Married</th>\n",
       "      <th>State</th>\n",
       "      <th>Number_of_Referrals</th>\n",
       "      <th>Tenure_in_Months</th>\n",
       "      <th>Value_Deal</th>\n",
       "      <th>Phone_Service</th>\n",
       "      <th>Multiple_Lines</th>\n",
       "      <th>...</th>\n",
       "      <th>Payment_Method</th>\n",
       "      <th>Monthly_Charge</th>\n",
       "      <th>Total_Charges</th>\n",
       "      <th>Total_Refunds</th>\n",
       "      <th>Total_Extra_Data_Charges</th>\n",
       "      <th>Total_Long_Distance_Charges</th>\n",
       "      <th>Total_Revenue</th>\n",
       "      <th>Customer_Status</th>\n",
       "      <th>Churn_Category</th>\n",
       "      <th>Churn_Reason</th>\n",
       "    </tr>\n",
       "  </thead>\n",
       "  <tbody>\n",
       "    <tr>\n",
       "      <th>0</th>\n",
       "      <td>11098-MAD</td>\n",
       "      <td>Female</td>\n",
       "      <td>30</td>\n",
       "      <td>Yes</td>\n",
       "      <td>Madhya Pradesh</td>\n",
       "      <td>0</td>\n",
       "      <td>31</td>\n",
       "      <td>Deal 1</td>\n",
       "      <td>Yes</td>\n",
       "      <td>No</td>\n",
       "      <td>...</td>\n",
       "      <td>Bank Withdrawal</td>\n",
       "      <td>95.099998</td>\n",
       "      <td>6683.399902</td>\n",
       "      <td>0.00</td>\n",
       "      <td>0</td>\n",
       "      <td>631.719971</td>\n",
       "      <td>7315.120117</td>\n",
       "      <td>Stayed</td>\n",
       "      <td>Others</td>\n",
       "      <td>Others</td>\n",
       "    </tr>\n",
       "    <tr>\n",
       "      <th>1</th>\n",
       "      <td>11114-PUN</td>\n",
       "      <td>Male</td>\n",
       "      <td>51</td>\n",
       "      <td>No</td>\n",
       "      <td>Punjab</td>\n",
       "      <td>5</td>\n",
       "      <td>9</td>\n",
       "      <td>Deal 5</td>\n",
       "      <td>Yes</td>\n",
       "      <td>No</td>\n",
       "      <td>...</td>\n",
       "      <td>Bank Withdrawal</td>\n",
       "      <td>49.150002</td>\n",
       "      <td>169.050003</td>\n",
       "      <td>0.00</td>\n",
       "      <td>10</td>\n",
       "      <td>122.370003</td>\n",
       "      <td>301.420013</td>\n",
       "      <td>Churned</td>\n",
       "      <td>Competitor</td>\n",
       "      <td>Competitor had better devices</td>\n",
       "    </tr>\n",
       "    <tr>\n",
       "      <th>2</th>\n",
       "      <td>11167-WES</td>\n",
       "      <td>Female</td>\n",
       "      <td>43</td>\n",
       "      <td>Yes</td>\n",
       "      <td>West Bengal</td>\n",
       "      <td>3</td>\n",
       "      <td>28</td>\n",
       "      <td>Deal 1</td>\n",
       "      <td>Yes</td>\n",
       "      <td>Yes</td>\n",
       "      <td>...</td>\n",
       "      <td>Bank Withdrawal</td>\n",
       "      <td>116.050003</td>\n",
       "      <td>8297.500000</td>\n",
       "      <td>42.57</td>\n",
       "      <td>110</td>\n",
       "      <td>1872.979980</td>\n",
       "      <td>10237.910156</td>\n",
       "      <td>Stayed</td>\n",
       "      <td>Others</td>\n",
       "      <td>Others</td>\n",
       "    </tr>\n",
       "    <tr>\n",
       "      <th>3</th>\n",
       "      <td>11179-MAH</td>\n",
       "      <td>Male</td>\n",
       "      <td>35</td>\n",
       "      <td>No</td>\n",
       "      <td>Maharashtra</td>\n",
       "      <td>10</td>\n",
       "      <td>12</td>\n",
       "      <td>None</td>\n",
       "      <td>Yes</td>\n",
       "      <td>No</td>\n",
       "      <td>...</td>\n",
       "      <td>Credit Card</td>\n",
       "      <td>84.400002</td>\n",
       "      <td>5969.299805</td>\n",
       "      <td>0.00</td>\n",
       "      <td>0</td>\n",
       "      <td>219.389999</td>\n",
       "      <td>6188.689941</td>\n",
       "      <td>Stayed</td>\n",
       "      <td>Others</td>\n",
       "      <td>Others</td>\n",
       "    </tr>\n",
       "    <tr>\n",
       "      <th>4</th>\n",
       "      <td>11180-TAM</td>\n",
       "      <td>Male</td>\n",
       "      <td>75</td>\n",
       "      <td>Yes</td>\n",
       "      <td>Tamil Nadu</td>\n",
       "      <td>12</td>\n",
       "      <td>27</td>\n",
       "      <td>Deal 2</td>\n",
       "      <td>Yes</td>\n",
       "      <td>No</td>\n",
       "      <td>...</td>\n",
       "      <td>Credit Card</td>\n",
       "      <td>72.599998</td>\n",
       "      <td>4084.350098</td>\n",
       "      <td>0.00</td>\n",
       "      <td>140</td>\n",
       "      <td>332.079987</td>\n",
       "      <td>4556.430176</td>\n",
       "      <td>Stayed</td>\n",
       "      <td>Others</td>\n",
       "      <td>Others</td>\n",
       "    </tr>\n",
       "  </tbody>\n",
       "</table>\n",
       "<p>5 rows × 32 columns</p>\n",
       "</div>"
      ],
      "text/plain": [
       "  Customer_ID  Gender  Age Married           State  Number_of_Referrals  \\\n",
       "0   11098-MAD  Female   30     Yes  Madhya Pradesh                    0   \n",
       "1   11114-PUN    Male   51      No          Punjab                    5   \n",
       "2   11167-WES  Female   43     Yes     West Bengal                    3   \n",
       "3   11179-MAH    Male   35      No     Maharashtra                   10   \n",
       "4   11180-TAM    Male   75     Yes      Tamil Nadu                   12   \n",
       "\n",
       "   Tenure_in_Months Value_Deal Phone_Service Multiple_Lines  ...  \\\n",
       "0                31     Deal 1           Yes             No  ...   \n",
       "1                 9     Deal 5           Yes             No  ...   \n",
       "2                28     Deal 1           Yes            Yes  ...   \n",
       "3                12       None           Yes             No  ...   \n",
       "4                27     Deal 2           Yes             No  ...   \n",
       "\n",
       "    Payment_Method Monthly_Charge Total_Charges Total_Refunds  \\\n",
       "0  Bank Withdrawal      95.099998   6683.399902          0.00   \n",
       "1  Bank Withdrawal      49.150002    169.050003          0.00   \n",
       "2  Bank Withdrawal     116.050003   8297.500000         42.57   \n",
       "3      Credit Card      84.400002   5969.299805          0.00   \n",
       "4      Credit Card      72.599998   4084.350098          0.00   \n",
       "\n",
       "  Total_Extra_Data_Charges Total_Long_Distance_Charges Total_Revenue  \\\n",
       "0                        0                  631.719971   7315.120117   \n",
       "1                       10                  122.370003    301.420013   \n",
       "2                      110                 1872.979980  10237.910156   \n",
       "3                        0                  219.389999   6188.689941   \n",
       "4                      140                  332.079987   4556.430176   \n",
       "\n",
       "  Customer_Status Churn_Category                   Churn_Reason  \n",
       "0          Stayed         Others                         Others  \n",
       "1         Churned     Competitor  Competitor had better devices  \n",
       "2          Stayed         Others                         Others  \n",
       "3          Stayed         Others                         Others  \n",
       "4          Stayed         Others                         Others  \n",
       "\n",
       "[5 rows x 32 columns]"
      ]
     },
     "execution_count": 5,
     "metadata": {},
     "output_type": "execute_result"
    }
   ],
   "source": [
    "df = pd.read_sql_query(\"SELECT * FROM vw_ChurnData\", engine)\n",
    "df.head()"
   ]
  },
  {
   "cell_type": "code",
   "execution_count": 6,
   "id": "8fde1d49",
   "metadata": {},
   "outputs": [],
   "source": [
    "df = df.drop(['Customer_ID', 'Churn_Category', 'Churn_Reason'], axis=1)"
   ]
  },
  {
   "cell_type": "code",
   "execution_count": 7,
   "id": "c59bee2f",
   "metadata": {},
   "outputs": [],
   "source": [
    "columns_to_encode = [\n",
    "    'Gender', 'Married', 'State', 'Value_Deal', 'Phone_Service', 'Multiple_Lines', 'Internet_Service', 'Internet_Type', 'Online_Security', 'Online_Backup', 'Device_Protection_Plan', 'Premium_Support', 'Streaming_TV', 'Streaming_Movies', 'Streaming_Music', 'Unlimited_Data', 'Contract', 'Paperless_Billing', 'Payment_Method'\n",
    "]"
   ]
  },
  {
   "cell_type": "code",
   "execution_count": 8,
   "id": "aa08e942",
   "metadata": {},
   "outputs": [],
   "source": [
    "label_encoders = {}\n",
    "for column in columns_to_encode:\n",
    "    label_encoders[column] = LabelEncoder()\n",
    "    df[column] = label_encoders[column].fit_transform(df[column])"
   ]
  },
  {
   "cell_type": "code",
   "execution_count": 9,
   "id": "f3744ec2",
   "metadata": {},
   "outputs": [],
   "source": [
    "df['Customer_Status'] = df['Customer_Status'].map({'Stayed':0, 'Churned':1})"
   ]
  },
  {
   "cell_type": "code",
   "execution_count": 10,
   "id": "172d1285",
   "metadata": {},
   "outputs": [],
   "source": [
    "X = df.drop('Customer_Status', axis=1)\n",
    "y = df['Customer_Status']"
   ]
  },
  {
   "cell_type": "code",
   "execution_count": 11,
   "id": "6e552444",
   "metadata": {},
   "outputs": [],
   "source": [
    "X_train, X_test, y_train, y_test = train_test_split(X, y, test_size=0.2, random_state=42)"
   ]
  },
  {
   "cell_type": "code",
   "execution_count": 12,
   "id": "903c6b84",
   "metadata": {},
   "outputs": [
    {
     "data": {
      "text/plain": [
       "RandomForestClassifier(random_state=42)"
      ]
     },
     "execution_count": 12,
     "metadata": {},
     "output_type": "execute_result"
    }
   ],
   "source": [
    "rf_model = RandomForestClassifier(n_estimators=100, random_state=42)\n",
    "rf_model.fit(X_train, y_train)"
   ]
  },
  {
   "cell_type": "code",
   "execution_count": 13,
   "id": "0f7fb785",
   "metadata": {},
   "outputs": [],
   "source": [
    "y_pred = rf_model.predict(X_test)"
   ]
  },
  {
   "cell_type": "code",
   "execution_count": 14,
   "id": "0c6236de",
   "metadata": {},
   "outputs": [
    {
     "name": "stdout",
     "output_type": "stream",
     "text": [
      "Confusion Matrix:\n",
      "[[783  64]\n",
      " [126 229]]\n",
      "\n",
      "Classification Report:\n",
      "              precision    recall  f1-score   support\n",
      "\n",
      "           0       0.86      0.92      0.89       847\n",
      "           1       0.78      0.65      0.71       355\n",
      "\n",
      "    accuracy                           0.84      1202\n",
      "   macro avg       0.82      0.78      0.80      1202\n",
      "weighted avg       0.84      0.84      0.84      1202\n",
      "\n"
     ]
    }
   ],
   "source": [
    "print('Confusion Matrix:')\n",
    "print(confusion_matrix(y_test, y_pred))\n",
    "print('\\nClassification Report:')\n",
    "print(classification_report(y_test, y_pred))"
   ]
  },
  {
   "cell_type": "code",
   "execution_count": 15,
   "id": "18958103",
   "metadata": {},
   "outputs": [],
   "source": [
    "importances = rf_model.feature_importances_\n",
    "indices = np.argsort(importances)[::-1]"
   ]
  },
  {
   "cell_type": "code",
   "execution_count": 16,
   "id": "d0a2e2fb",
   "metadata": {},
   "outputs": [
    {
     "data": {
      "image/png": "[encoded data removed]",
      "text/plain": [
       "<Figure size 1500x600 with 1 Axes>"
      ]
     },
     "metadata": {},
     "output_type": "display_data"
    }
   ],
   "source": [
    "plt.figure(figsize=(15, 6))\n",
    "sns.barplot(x=importances[indices], y=X.columns[indices])\n",
    "plt.title('Feature Importances')\n",
    "plt.xlabel('Relative Importance')\n",
    "plt.ylabel('Feature Names');"
   ]
  },
  {
   "cell_type": "code",
   "execution_count": 17,
   "id": "ffb07292",
   "metadata": {},
   "outputs": [
    {
     "data": {
      "text/html": [
       "<div>\n",
       "<style scoped>\n",
       "    .dataframe tbody tr th:only-of-type {\n",
       "        vertical-align: middle;\n",
       "    }\n",
       "\n",
       "    .dataframe tbody tr th {\n",
       "        vertical-align: top;\n",
       "    }\n",
       "\n",
       "    .dataframe thead th {\n",
       "        text-align: right;\n",
       "    }\n",
       "</style>\n",
       "<table border=\"1\" class=\"dataframe\">\n",
       "  <thead>\n",
       "    <tr style=\"text-align: right;\">\n",
       "      <th></th>\n",
       "      <th>Customer_ID</th>\n",
       "      <th>Gender</th>\n",
       "      <th>Age</th>\n",
       "      <th>Married</th>\n",
       "      <th>State</th>\n",
       "      <th>Number_of_Referrals</th>\n",
       "      <th>Tenure_in_Months</th>\n",
       "      <th>Value_Deal</th>\n",
       "      <th>Phone_Service</th>\n",
       "      <th>Multiple_Lines</th>\n",
       "      <th>...</th>\n",
       "      <th>Payment_Method</th>\n",
       "      <th>Monthly_Charge</th>\n",
       "      <th>Total_Charges</th>\n",
       "      <th>Total_Refunds</th>\n",
       "      <th>Total_Extra_Data_Charges</th>\n",
       "      <th>Total_Long_Distance_Charges</th>\n",
       "      <th>Total_Revenue</th>\n",
       "      <th>Customer_Status</th>\n",
       "      <th>Churn_Category</th>\n",
       "      <th>Churn_Reason</th>\n",
       "    </tr>\n",
       "  </thead>\n",
       "  <tbody>\n",
       "    <tr>\n",
       "      <th>0</th>\n",
       "      <td>11751-TAM</td>\n",
       "      <td>Female</td>\n",
       "      <td>18</td>\n",
       "      <td>No</td>\n",
       "      <td>Tamil Nadu</td>\n",
       "      <td>5</td>\n",
       "      <td>7</td>\n",
       "      <td>Deal 5</td>\n",
       "      <td>No</td>\n",
       "      <td>No</td>\n",
       "      <td>...</td>\n",
       "      <td>Mailed Check</td>\n",
       "      <td>24.299999</td>\n",
       "      <td>38.450001</td>\n",
       "      <td>0.0</td>\n",
       "      <td>0</td>\n",
       "      <td>0.000000</td>\n",
       "      <td>38.450001</td>\n",
       "      <td>Joined</td>\n",
       "      <td>Others</td>\n",
       "      <td>Others</td>\n",
       "    </tr>\n",
       "    <tr>\n",
       "      <th>1</th>\n",
       "      <td>12056-WES</td>\n",
       "      <td>Male</td>\n",
       "      <td>27</td>\n",
       "      <td>No</td>\n",
       "      <td>West Bengal</td>\n",
       "      <td>2</td>\n",
       "      <td>20</td>\n",
       "      <td>None</td>\n",
       "      <td>Yes</td>\n",
       "      <td>No</td>\n",
       "      <td>...</td>\n",
       "      <td>Bank Withdrawal</td>\n",
       "      <td>90.400002</td>\n",
       "      <td>268.450012</td>\n",
       "      <td>0.0</td>\n",
       "      <td>0</td>\n",
       "      <td>94.440002</td>\n",
       "      <td>362.890015</td>\n",
       "      <td>Joined</td>\n",
       "      <td>Others</td>\n",
       "      <td>Others</td>\n",
       "    </tr>\n",
       "    <tr>\n",
       "      <th>2</th>\n",
       "      <td>12136-RAJ</td>\n",
       "      <td>Female</td>\n",
       "      <td>25</td>\n",
       "      <td>Yes</td>\n",
       "      <td>Rajasthan</td>\n",
       "      <td>2</td>\n",
       "      <td>35</td>\n",
       "      <td>None</td>\n",
       "      <td>Yes</td>\n",
       "      <td>No</td>\n",
       "      <td>...</td>\n",
       "      <td>Bank Withdrawal</td>\n",
       "      <td>19.900000</td>\n",
       "      <td>19.900000</td>\n",
       "      <td>0.0</td>\n",
       "      <td>0</td>\n",
       "      <td>11.830000</td>\n",
       "      <td>31.730000</td>\n",
       "      <td>Joined</td>\n",
       "      <td>Others</td>\n",
       "      <td>Others</td>\n",
       "    </tr>\n",
       "    <tr>\n",
       "      <th>3</th>\n",
       "      <td>12257-ASS</td>\n",
       "      <td>Female</td>\n",
       "      <td>39</td>\n",
       "      <td>No</td>\n",
       "      <td>Assam</td>\n",
       "      <td>9</td>\n",
       "      <td>1</td>\n",
       "      <td>None</td>\n",
       "      <td>Yes</td>\n",
       "      <td>No</td>\n",
       "      <td>...</td>\n",
       "      <td>Credit Card</td>\n",
       "      <td>19.549999</td>\n",
       "      <td>19.549999</td>\n",
       "      <td>0.0</td>\n",
       "      <td>0</td>\n",
       "      <td>10.200000</td>\n",
       "      <td>29.750000</td>\n",
       "      <td>Joined</td>\n",
       "      <td>Others</td>\n",
       "      <td>Others</td>\n",
       "    </tr>\n",
       "    <tr>\n",
       "      <th>4</th>\n",
       "      <td>12340-DEL</td>\n",
       "      <td>Female</td>\n",
       "      <td>51</td>\n",
       "      <td>Yes</td>\n",
       "      <td>Delhi</td>\n",
       "      <td>0</td>\n",
       "      <td>10</td>\n",
       "      <td>None</td>\n",
       "      <td>Yes</td>\n",
       "      <td>No</td>\n",
       "      <td>...</td>\n",
       "      <td>Credit Card</td>\n",
       "      <td>62.799999</td>\n",
       "      <td>62.799999</td>\n",
       "      <td>0.0</td>\n",
       "      <td>0</td>\n",
       "      <td>42.189999</td>\n",
       "      <td>104.989998</td>\n",
       "      <td>Joined</td>\n",
       "      <td>Others</td>\n",
       "      <td>Others</td>\n",
       "    </tr>\n",
       "  </tbody>\n",
       "</table>\n",
       "<p>5 rows × 32 columns</p>\n",
       "</div>"
      ],
      "text/plain": [
       "  Customer_ID  Gender  Age Married        State  Number_of_Referrals  \\\n",
       "0   11751-TAM  Female   18      No   Tamil Nadu                    5   \n",
       "1   12056-WES    Male   27      No  West Bengal                    2   \n",
       "2   12136-RAJ  Female   25     Yes    Rajasthan                    2   \n",
       "3   12257-ASS  Female   39      No        Assam                    9   \n",
       "4   12340-DEL  Female   51     Yes        Delhi                    0   \n",
       "\n",
       "   Tenure_in_Months Value_Deal Phone_Service Multiple_Lines  ...  \\\n",
       "0                 7     Deal 5            No             No  ...   \n",
       "1                20       None           Yes             No  ...   \n",
       "2                35       None           Yes             No  ...   \n",
       "3                 1       None           Yes             No  ...   \n",
       "4                10       None           Yes             No  ...   \n",
       "\n",
       "    Payment_Method Monthly_Charge Total_Charges Total_Refunds  \\\n",
       "0     Mailed Check      24.299999     38.450001           0.0   \n",
       "1  Bank Withdrawal      90.400002    268.450012           0.0   \n",
       "2  Bank Withdrawal      19.900000     19.900000           0.0   \n",
       "3      Credit Card      19.549999     19.549999           0.0   \n",
       "4      Credit Card      62.799999     62.799999           0.0   \n",
       "\n",
       "  Total_Extra_Data_Charges Total_Long_Distance_Charges Total_Revenue  \\\n",
       "0                        0                    0.000000     38.450001   \n",
       "1                        0                   94.440002    362.890015   \n",
       "2                        0                   11.830000     31.730000   \n",
       "3                        0                   10.200000     29.750000   \n",
       "4                        0                   42.189999    104.989998   \n",
       "\n",
       "  Customer_Status Churn_Category Churn_Reason  \n",
       "0          Joined         Others       Others  \n",
       "1          Joined         Others       Others  \n",
       "2          Joined         Others       Others  \n",
       "3          Joined         Others       Others  \n",
       "4          Joined         Others       Others  \n",
       "\n",
       "[5 rows x 32 columns]"
      ]
     },
     "execution_count": 17,
     "metadata": {},
     "output_type": "execute_result"
    }
   ],
   "source": [
    "new_data = pd.read_sql_query(\"SELECT * FROM vw_JoinData\", engine)\n",
    "new_data.head()"
   ]
  },
  {
   "cell_type": "code",
   "execution_count": 18,
   "id": "ee06afaa",
   "metadata": {},
   "outputs": [],
   "source": [
    "original_data = new_data.copy()\n",
    "customer_ids = new_data['Customer_ID']"
   ]
  },
  {
   "cell_type": "code",
   "execution_count": 19,
   "id": "ee33a6c0",
   "metadata": {},
   "outputs": [],
   "source": [
    "new_data = new_data.drop(['Customer_ID', 'Customer_Status', 'Churn_Category', 'Churn_Reason'], axis=1)"
   ]
  },
  {
   "cell_type": "code",
   "execution_count": 20,
   "id": "5d9d3be6",
   "metadata": {},
   "outputs": [],
   "source": [
    "for column in new_data.select_dtypes(include=['object']).columns:\n",
    "    new_data[column] = label_encoders[column].transform(new_data[column])"
   ]
  },
  {
   "cell_type": "code",
   "execution_count": 21,
   "id": "d511224c",
   "metadata": {},
   "outputs": [],
   "source": [
    "new_predictions = rf_model.predict(new_data)"
   ]
  },
  {
   "cell_type": "code",
   "execution_count": 22,
   "id": "aadb5176",
   "metadata": {},
   "outputs": [],
   "source": [
    "original_data['Customer_Status_Predicted'] = new_predictions"
   ]
  },
  {
   "cell_type": "code",
   "execution_count": 23,
   "id": "38cf9eb6",
   "metadata": {},
   "outputs": [],
   "source": [
    "original_data = original_data[original_data['Customer_Status_Predicted'] == 1]"
   ]
  },
  {
   "cell_type": "code",
   "execution_count": 27,
   "id": "58d4be70",
   "metadata": {},
   "outputs": [
    {
     "data": {
      "text/plain": [
       "-1"
      ]
     },
     "execution_count": 27,
     "metadata": {},
     "output_type": "execute_result"
    }
   ],
   "source": [
    "original_data.to_sql('Predictions', con=engine, index=False)"
   ]
  },
  {
   "cell_type": "code",
   "execution_count": 30,
   "id": "d6cd90f8",
   "metadata": {},
   "outputs": [],
   "source": [
    "engine.dispose()"
   ]
  },
  {
   "cell_type": "code",
   "execution_count": null,
   "id": "a5d39d1c",
   "metadata": {},
   "outputs": [],
   "source": []
  }
 ],
 "metadata": {
  "kernelspec": {
   "display_name": "Python 3 (ipykernel)",
   "language": "python",
   "name": "python3"
  },
  "language_info": {
   "codemirror_mode": {
    "name": "ipython",
    "version": 3
   },
   "file_extension": ".py",
   "mimetype": "text/x-python",
   "name": "python",
   "nbconvert_exporter": "python",
   "pygments_lexer": "ipython3",
   "version": "3.9.13"
  }
 },
 "nbformat": 4,
 "nbformat_minor": 5
}
